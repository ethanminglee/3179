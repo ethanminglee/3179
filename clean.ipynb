{
 "cells": [
  {
   "cell_type": "code",
   "execution_count": 6,
   "metadata": {},
   "outputs": [
    {
     "data": {
      "text/plain": [
       "['clean.ipynb', 'css', 'data', 'js', 'test.vg.json', 'test2.vg.json']"
      ]
     },
     "execution_count": 6,
     "metadata": {},
     "output_type": "execute_result"
    }
   ],
   "source": [
    "import json\n",
    "import os\n",
    "\n",
    "os.listdir('.')"
   ]
  },
  {
   "cell_type": "code",
   "execution_count": 7,
   "metadata": {},
   "outputs": [],
   "source": [
    "with open ('data/building-outlines-2015-crop.json', 'r') as f:\n",
    "    file = json.load(f)\n"
   ]
  },
  {
   "cell_type": "code",
   "execution_count": 9,
   "metadata": {},
   "outputs": [],
   "source": [
    "new_features = []\n",
    "for feature in file['features']:\n",
    "    coords = feature['geometry']['coordinates']\n",
    "    new_feature = feature.copy()\n",
    "    new_feature['geometry']['coordinates'] = [coords]\n",
    "    new_features.append(new_feature)"
   ]
  },
  {
   "cell_type": "code",
   "execution_count": 10,
   "metadata": {},
   "outputs": [],
   "source": [
    "new_file = file.copy()\n",
    "new_file['features'] = new_features"
   ]
  },
  {
   "cell_type": "code",
   "execution_count": 12,
   "metadata": {},
   "outputs": [],
   "source": [
    "with open ('data/building-outlines-2015-crop-clean.json', 'w') as f:\n",
    "    file = json.dump(new_file, f)\n"
   ]
  },
  {
   "cell_type": "code",
   "execution_count": 1,
   "metadata": {},
   "outputs": [],
   "source": [
    "import pandas as pd"
   ]
  },
  {
   "cell_type": "code",
   "execution_count": 17,
   "metadata": {},
   "outputs": [
    {
     "name": "stdout",
     "output_type": "stream",
     "text": [
      "5481 5424\n"
     ]
    }
   ],
   "source": [
    "df = pd.read_csv('./data/on-street-parking-bay-sensors.csv')\n",
    "df['Latitude'] = df['Latitude'].astype(float)\n",
    "new_df = df[df['Latitude'] >= -37.8332]\n",
    "print(len(df), len(new_df))"
   ]
  },
  {
   "cell_type": "code",
   "execution_count": 18,
   "metadata": {},
   "outputs": [],
   "source": [
    "new_df.to_csv('./data/on-street-parking-bay-sensors-crop.csv')\n"
   ]
  },
  {
   "cell_type": "code",
   "execution_count": 12,
   "metadata": {},
   "outputs": [
    {
     "data": {
      "text/html": [
       "<div>\n",
       "<style scoped>\n",
       "    .dataframe tbody tr th:only-of-type {\n",
       "        vertical-align: middle;\n",
       "    }\n",
       "\n",
       "    .dataframe tbody tr th {\n",
       "        vertical-align: top;\n",
       "    }\n",
       "\n",
       "    .dataframe thead th {\n",
       "        text-align: right;\n",
       "    }\n",
       "</style>\n",
       "<table border=\"1\" class=\"dataframe\">\n",
       "  <thead>\n",
       "    <tr style=\"text-align: right;\">\n",
       "      <th></th>\n",
       "      <th>Lastupdated</th>\n",
       "      <th>Status_Timestamp</th>\n",
       "      <th>Zone_Number</th>\n",
       "      <th>Status_Description</th>\n",
       "      <th>Parkingbay_ID</th>\n",
       "      <th>Latitude</th>\n",
       "      <th>Longitude</th>\n",
       "    </tr>\n",
       "  </thead>\n",
       "  <tbody>\n",
       "    <tr>\n",
       "      <th>4581</th>\n",
       "      <td>2023-10-10T21:20:20+11:00</td>\n",
       "      <td>2023-10-10T21:08:13+11:00</td>\n",
       "      <td>7910.0</td>\n",
       "      <td>Present</td>\n",
       "      <td>22417</td>\n",
       "      <td>-37.844979</td>\n",
       "      <td>144.980378</td>\n",
       "    </tr>\n",
       "  </tbody>\n",
       "</table>\n",
       "</div>"
      ],
      "text/plain": [
       "                    Lastupdated           Status_Timestamp  Zone_Number  \\\n",
       "4581  2023-10-10T21:20:20+11:00  2023-10-10T21:08:13+11:00       7910.0   \n",
       "\n",
       "     Status_Description  Parkingbay_ID   Latitude   Longitude  \n",
       "4581            Present          22417 -37.844979  144.980378  "
      ]
     },
     "execution_count": 12,
     "metadata": {},
     "output_type": "execute_result"
    }
   ],
   "source": [
    "new_df[new_df['Latitude'] == -37.84497907]"
   ]
  },
  {
   "cell_type": "code",
   "execution_count": null,
   "metadata": {},
   "outputs": [],
   "source": []
  }
 ],
 "metadata": {
  "kernelspec": {
   "display_name": "base",
   "language": "python",
   "name": "python3"
  },
  "language_info": {
   "codemirror_mode": {
    "name": "ipython",
    "version": 3
   },
   "file_extension": ".py",
   "mimetype": "text/x-python",
   "name": "python",
   "nbconvert_exporter": "python",
   "pygments_lexer": "ipython3",
   "version": "3.11.4"
  },
  "orig_nbformat": 4
 },
 "nbformat": 4,
 "nbformat_minor": 2
}
